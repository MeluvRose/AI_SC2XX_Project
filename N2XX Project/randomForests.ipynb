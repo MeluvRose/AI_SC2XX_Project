{
 "cells": [
  {
   "cell_type": "code",
   "execution_count": null,
   "source": [
    "import pandas as pd\n",
    "\n",
    "data_url = \"./data/my_data.csv\"\n",
    "data = pd.read_csv(data_url)\n",
    "\n",
    "data.head()"
   ],
   "outputs": [],
   "metadata": {}
  }
 ],
 "metadata": {
  "orig_nbformat": 4,
  "language_info": {
   "name": "python"
  }
 },
 "nbformat": 4,
 "nbformat_minor": 2
}